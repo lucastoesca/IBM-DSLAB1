{
 "cells": [
  {
   "cell_type": "markdown",
   "id": "e9e225c3-aa60-4d03-87fc-87f7edf54d95",
   "metadata": {},
   "source": [
    "# Data Science Tools and Ecosystem\n"
   ]
  },
  {
   "cell_type": "markdown",
   "id": "15ddd02a-5978-4e95-b6e4-246c0088ed2e",
   "metadata": {},
   "source": [
    "In this notebook, Data Science Tools and Ecosystem are summarized."
   ]
  },
  {
   "cell_type": "markdown",
   "id": "c8cf4548-d4d8-4384-8323-a7894284a733",
   "metadata": {},
   "source": [
    "## __Objectives__:\n",
    "- List popular programming languages for Data Science\n",
    "- List some of the commonly used libraries for Data Science\n",
    "- List in a table som of the tools used in Data Science\n",
    "- Evaluating basic arithmetic expressions"
   ]
  },
  {
   "cell_type": "markdown",
   "id": "17dd1ab5-6efa-4692-9cc6-2bb9f9a3dd90",
   "metadata": {},
   "source": [
    "## Author:\n",
    "Lucas Estrada"
   ]
  },
  {
   "cell_type": "markdown",
   "id": "4227263e-90f6-4d9d-9218-b3b298c8eb34",
   "metadata": {},
   "source": [
    "Some of the popular languages that Data Scientists use are:\n",
    "- Julia\n",
    "- Python\n",
    "- R"
   ]
  },
  {
   "cell_type": "markdown",
   "id": "fc758231-3578-4029-8289-47fe594b2da9",
   "metadata": {},
   "source": [
    "Some of the commonly used libraries used by Data Scientists include:\n",
    "1. Pandas\n",
    "2. Scikit-learn\n",
    "3. Tensor Flow"
   ]
  },
  {
   "cell_type": "markdown",
   "id": "fba6ea1a-6829-4308-9cda-c2c138415949",
   "metadata": {},
   "source": [
    "| Data Science Tools|\n",
    " ------------------\n",
    "| Github\n",
    "| Jupyter Lab\n",
    "| VS Code\n"
   ]
  },
  {
   "cell_type": "markdown",
   "id": "1af5bf0b-e8d8-4924-bba3-f12170b4d91f",
   "metadata": {},
   "source": [
    "### Below are a few examples of evaluating arithmetic expressions in Python"
   ]
  },
  {
   "cell_type": "code",
   "execution_count": 2,
   "id": "d8b28d89-0563-4910-a0cf-61a983ce1359",
   "metadata": {
    "tags": []
   },
   "outputs": [
    {
     "data": {
      "text/plain": [
       "17"
      ]
     },
     "execution_count": 2,
     "metadata": {},
     "output_type": "execute_result"
    }
   ],
   "source": [
    "# This is a simple arithmetic expression to multiply then add integers\n",
    "(3*4)+5"
   ]
  },
  {
   "cell_type": "code",
   "execution_count": 5,
   "id": "b2ab4e32-a951-4c24-a50f-c7e8dc4184c5",
   "metadata": {
    "tags": []
   },
   "outputs": [
    {
     "data": {
      "text/plain": [
       "3.3333333333333335"
      ]
     },
     "execution_count": 5,
     "metadata": {},
     "output_type": "execute_result"
    }
   ],
   "source": [
    "# This will convert 200 minutes to hours by dividing by 60\n",
    "200 / 60"
   ]
  }
 ],
 "metadata": {
  "kernelspec": {
   "display_name": "Python 3 (ipykernel)",
   "language": "python",
   "name": "python3"
  },
  "language_info": {
   "codemirror_mode": {
    "name": "ipython",
    "version": 3
   },
   "file_extension": ".py",
   "mimetype": "text/x-python",
   "name": "python",
   "nbconvert_exporter": "python",
   "pygments_lexer": "ipython3",
   "version": "3.11.9"
  }
 },
 "nbformat": 4,
 "nbformat_minor": 5
}
